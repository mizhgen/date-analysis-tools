{
 "cells": [
  {
   "cell_type": "code",
   "execution_count": 21,
   "metadata": {
    "executionInfo": {
     "elapsed": 281,
     "status": "ok",
     "timestamp": 1661536055188,
     "user": {
      "displayName": "Юлия Агафонова",
      "userId": "09643918871768043663"
     },
     "user_tz": -240
    },
    "id": "PJ6gUzJ7z3Oj"
   },
   "outputs": [],
   "source": [
    "import sklearn.datasets\n",
    "import sklearn\n",
    "import numpy as np\n",
    "import pandas as pd\n",
    "import numpy as np\n",
    "import seaborn as sb\n",
    "import matplotlib.pyplot as plt\n",
    "\n",
    "from sklearn.model_selection import train_test_split, GridSearchCV\n",
    "from sklearn.ensemble import RandomForestClassifier\n",
    "from sklearn.preprocessing import StandardScaler\n",
    "from sklearn.metrics import accuracy_score, classification_report, f1_score, precision_score, recall_score"
   ]
  },
  {
   "cell_type": "markdown",
   "metadata": {
    "id": "T56mKSfOz44U"
   },
   "source": [
    "Выберите наборы данных, подходящие для многоклассовой и бинарной классификации. Опишите данные, что обозначает каждый столбец, какого типа (категориальный, вещественный, целочисленный, бинарный) данный столбец, при необходимости для категориальных в том числе бинарных признаков привести расшифровку их значений. В общем, проведите \"визуальный\" анализ ваших данных."
   ]
  },
  {
   "cell_type": "markdown",
   "metadata": {
    "id": "Kidz7N8f1y0f"
   },
   "source": [
    "https://scikit-learn.org/stable/modules/generated/sklearn.datasets.fetch_covtype.html#sklearn.datasets.fetch_covtype ссылка на датасет"
   ]
  },
  {
   "cell_type": "code",
   "execution_count": 29,
   "metadata": {
    "colab": {
     "base_uri": "https://localhost:8080/",
     "height": 613
    },
    "executionInfo": {
     "elapsed": 2032,
     "status": "ok",
     "timestamp": 1661537011321,
     "user": {
      "displayName": "Юлия Агафонова",
      "userId": "09643918871768043663"
     },
     "user_tz": -240
    },
    "id": "nR7s9Vw8znaP",
    "outputId": "a9c635e2-a63a-4268-e96a-0d1001d3e772"
   },
   "outputs": [
    {
     "data": {
      "text/html": [
       "\n",
       "  <div id=\"df-caf8336a-eb8e-4299-b4a0-a97ccfd8f547\">\n",
       "    <div class=\"colab-df-container\">\n",
       "      <div>\n",
       "<style scoped>\n",
       "    .dataframe tbody tr th:only-of-type {\n",
       "        vertical-align: middle;\n",
       "    }\n",
       "\n",
       "    .dataframe tbody tr th {\n",
       "        vertical-align: top;\n",
       "    }\n",
       "\n",
       "    .dataframe thead th {\n",
       "        text-align: right;\n",
       "    }\n",
       "</style>\n",
       "<table border=\"1\" class=\"dataframe\">\n",
       "  <thead>\n",
       "    <tr style=\"text-align: right;\">\n",
       "      <th></th>\n",
       "      <th>Elevation</th>\n",
       "      <th>Aspect</th>\n",
       "      <th>Slope</th>\n",
       "      <th>Horizontal_Distance_To_Hydrology</th>\n",
       "      <th>Vertical_Distance_To_Hydrology</th>\n",
       "      <th>Horizontal_Distance_To_Roadways</th>\n",
       "      <th>Hillshade_9am</th>\n",
       "      <th>Hillshade_Noon</th>\n",
       "      <th>Hillshade_3pm</th>\n",
       "      <th>Horizontal_Distance_To_Fire_Points</th>\n",
       "      <th>...</th>\n",
       "      <th>Soil_Type_31</th>\n",
       "      <th>Soil_Type_32</th>\n",
       "      <th>Soil_Type_33</th>\n",
       "      <th>Soil_Type_34</th>\n",
       "      <th>Soil_Type_35</th>\n",
       "      <th>Soil_Type_36</th>\n",
       "      <th>Soil_Type_37</th>\n",
       "      <th>Soil_Type_38</th>\n",
       "      <th>Soil_Type_39</th>\n",
       "      <th>target</th>\n",
       "    </tr>\n",
       "  </thead>\n",
       "  <tbody>\n",
       "    <tr>\n",
       "      <th>0</th>\n",
       "      <td>2596.0</td>\n",
       "      <td>51.0</td>\n",
       "      <td>3.0</td>\n",
       "      <td>258.0</td>\n",
       "      <td>0.0</td>\n",
       "      <td>510.0</td>\n",
       "      <td>221.0</td>\n",
       "      <td>232.0</td>\n",
       "      <td>148.0</td>\n",
       "      <td>6279.0</td>\n",
       "      <td>...</td>\n",
       "      <td>0.0</td>\n",
       "      <td>0.0</td>\n",
       "      <td>0.0</td>\n",
       "      <td>0.0</td>\n",
       "      <td>0.0</td>\n",
       "      <td>0.0</td>\n",
       "      <td>0.0</td>\n",
       "      <td>0.0</td>\n",
       "      <td>0.0</td>\n",
       "      <td>5</td>\n",
       "    </tr>\n",
       "    <tr>\n",
       "      <th>1</th>\n",
       "      <td>2590.0</td>\n",
       "      <td>56.0</td>\n",
       "      <td>2.0</td>\n",
       "      <td>212.0</td>\n",
       "      <td>-6.0</td>\n",
       "      <td>390.0</td>\n",
       "      <td>220.0</td>\n",
       "      <td>235.0</td>\n",
       "      <td>151.0</td>\n",
       "      <td>6225.0</td>\n",
       "      <td>...</td>\n",
       "      <td>0.0</td>\n",
       "      <td>0.0</td>\n",
       "      <td>0.0</td>\n",
       "      <td>0.0</td>\n",
       "      <td>0.0</td>\n",
       "      <td>0.0</td>\n",
       "      <td>0.0</td>\n",
       "      <td>0.0</td>\n",
       "      <td>0.0</td>\n",
       "      <td>5</td>\n",
       "    </tr>\n",
       "    <tr>\n",
       "      <th>2</th>\n",
       "      <td>2804.0</td>\n",
       "      <td>139.0</td>\n",
       "      <td>9.0</td>\n",
       "      <td>268.0</td>\n",
       "      <td>65.0</td>\n",
       "      <td>3180.0</td>\n",
       "      <td>234.0</td>\n",
       "      <td>238.0</td>\n",
       "      <td>135.0</td>\n",
       "      <td>6121.0</td>\n",
       "      <td>...</td>\n",
       "      <td>0.0</td>\n",
       "      <td>0.0</td>\n",
       "      <td>0.0</td>\n",
       "      <td>0.0</td>\n",
       "      <td>0.0</td>\n",
       "      <td>0.0</td>\n",
       "      <td>0.0</td>\n",
       "      <td>0.0</td>\n",
       "      <td>0.0</td>\n",
       "      <td>2</td>\n",
       "    </tr>\n",
       "    <tr>\n",
       "      <th>3</th>\n",
       "      <td>2785.0</td>\n",
       "      <td>155.0</td>\n",
       "      <td>18.0</td>\n",
       "      <td>242.0</td>\n",
       "      <td>118.0</td>\n",
       "      <td>3090.0</td>\n",
       "      <td>238.0</td>\n",
       "      <td>238.0</td>\n",
       "      <td>122.0</td>\n",
       "      <td>6211.0</td>\n",
       "      <td>...</td>\n",
       "      <td>0.0</td>\n",
       "      <td>0.0</td>\n",
       "      <td>0.0</td>\n",
       "      <td>0.0</td>\n",
       "      <td>0.0</td>\n",
       "      <td>0.0</td>\n",
       "      <td>0.0</td>\n",
       "      <td>0.0</td>\n",
       "      <td>0.0</td>\n",
       "      <td>2</td>\n",
       "    </tr>\n",
       "    <tr>\n",
       "      <th>4</th>\n",
       "      <td>2595.0</td>\n",
       "      <td>45.0</td>\n",
       "      <td>2.0</td>\n",
       "      <td>153.0</td>\n",
       "      <td>-1.0</td>\n",
       "      <td>391.0</td>\n",
       "      <td>220.0</td>\n",
       "      <td>234.0</td>\n",
       "      <td>150.0</td>\n",
       "      <td>6172.0</td>\n",
       "      <td>...</td>\n",
       "      <td>0.0</td>\n",
       "      <td>0.0</td>\n",
       "      <td>0.0</td>\n",
       "      <td>0.0</td>\n",
       "      <td>0.0</td>\n",
       "      <td>0.0</td>\n",
       "      <td>0.0</td>\n",
       "      <td>0.0</td>\n",
       "      <td>0.0</td>\n",
       "      <td>5</td>\n",
       "    </tr>\n",
       "    <tr>\n",
       "      <th>5</th>\n",
       "      <td>2579.0</td>\n",
       "      <td>132.0</td>\n",
       "      <td>6.0</td>\n",
       "      <td>300.0</td>\n",
       "      <td>-15.0</td>\n",
       "      <td>67.0</td>\n",
       "      <td>230.0</td>\n",
       "      <td>237.0</td>\n",
       "      <td>140.0</td>\n",
       "      <td>6031.0</td>\n",
       "      <td>...</td>\n",
       "      <td>0.0</td>\n",
       "      <td>0.0</td>\n",
       "      <td>0.0</td>\n",
       "      <td>0.0</td>\n",
       "      <td>0.0</td>\n",
       "      <td>0.0</td>\n",
       "      <td>0.0</td>\n",
       "      <td>0.0</td>\n",
       "      <td>0.0</td>\n",
       "      <td>2</td>\n",
       "    </tr>\n",
       "    <tr>\n",
       "      <th>6</th>\n",
       "      <td>2606.0</td>\n",
       "      <td>45.0</td>\n",
       "      <td>7.0</td>\n",
       "      <td>270.0</td>\n",
       "      <td>5.0</td>\n",
       "      <td>633.0</td>\n",
       "      <td>222.0</td>\n",
       "      <td>225.0</td>\n",
       "      <td>138.0</td>\n",
       "      <td>6256.0</td>\n",
       "      <td>...</td>\n",
       "      <td>0.0</td>\n",
       "      <td>0.0</td>\n",
       "      <td>0.0</td>\n",
       "      <td>0.0</td>\n",
       "      <td>0.0</td>\n",
       "      <td>0.0</td>\n",
       "      <td>0.0</td>\n",
       "      <td>0.0</td>\n",
       "      <td>0.0</td>\n",
       "      <td>5</td>\n",
       "    </tr>\n",
       "    <tr>\n",
       "      <th>7</th>\n",
       "      <td>2605.0</td>\n",
       "      <td>49.0</td>\n",
       "      <td>4.0</td>\n",
       "      <td>234.0</td>\n",
       "      <td>7.0</td>\n",
       "      <td>573.0</td>\n",
       "      <td>222.0</td>\n",
       "      <td>230.0</td>\n",
       "      <td>144.0</td>\n",
       "      <td>6228.0</td>\n",
       "      <td>...</td>\n",
       "      <td>0.0</td>\n",
       "      <td>0.0</td>\n",
       "      <td>0.0</td>\n",
       "      <td>0.0</td>\n",
       "      <td>0.0</td>\n",
       "      <td>0.0</td>\n",
       "      <td>0.0</td>\n",
       "      <td>0.0</td>\n",
       "      <td>0.0</td>\n",
       "      <td>5</td>\n",
       "    </tr>\n",
       "    <tr>\n",
       "      <th>8</th>\n",
       "      <td>2617.0</td>\n",
       "      <td>45.0</td>\n",
       "      <td>9.0</td>\n",
       "      <td>240.0</td>\n",
       "      <td>56.0</td>\n",
       "      <td>666.0</td>\n",
       "      <td>223.0</td>\n",
       "      <td>221.0</td>\n",
       "      <td>133.0</td>\n",
       "      <td>6244.0</td>\n",
       "      <td>...</td>\n",
       "      <td>0.0</td>\n",
       "      <td>0.0</td>\n",
       "      <td>0.0</td>\n",
       "      <td>0.0</td>\n",
       "      <td>0.0</td>\n",
       "      <td>0.0</td>\n",
       "      <td>0.0</td>\n",
       "      <td>0.0</td>\n",
       "      <td>0.0</td>\n",
       "      <td>5</td>\n",
       "    </tr>\n",
       "    <tr>\n",
       "      <th>9</th>\n",
       "      <td>2612.0</td>\n",
       "      <td>59.0</td>\n",
       "      <td>10.0</td>\n",
       "      <td>247.0</td>\n",
       "      <td>11.0</td>\n",
       "      <td>636.0</td>\n",
       "      <td>228.0</td>\n",
       "      <td>219.0</td>\n",
       "      <td>124.0</td>\n",
       "      <td>6230.0</td>\n",
       "      <td>...</td>\n",
       "      <td>0.0</td>\n",
       "      <td>0.0</td>\n",
       "      <td>0.0</td>\n",
       "      <td>0.0</td>\n",
       "      <td>0.0</td>\n",
       "      <td>0.0</td>\n",
       "      <td>0.0</td>\n",
       "      <td>0.0</td>\n",
       "      <td>0.0</td>\n",
       "      <td>5</td>\n",
       "    </tr>\n",
       "    <tr>\n",
       "      <th>10</th>\n",
       "      <td>2612.0</td>\n",
       "      <td>201.0</td>\n",
       "      <td>4.0</td>\n",
       "      <td>180.0</td>\n",
       "      <td>51.0</td>\n",
       "      <td>735.0</td>\n",
       "      <td>218.0</td>\n",
       "      <td>243.0</td>\n",
       "      <td>161.0</td>\n",
       "      <td>6222.0</td>\n",
       "      <td>...</td>\n",
       "      <td>0.0</td>\n",
       "      <td>0.0</td>\n",
       "      <td>0.0</td>\n",
       "      <td>0.0</td>\n",
       "      <td>0.0</td>\n",
       "      <td>0.0</td>\n",
       "      <td>0.0</td>\n",
       "      <td>0.0</td>\n",
       "      <td>0.0</td>\n",
       "      <td>5</td>\n",
       "    </tr>\n",
       "    <tr>\n",
       "      <th>11</th>\n",
       "      <td>2886.0</td>\n",
       "      <td>151.0</td>\n",
       "      <td>11.0</td>\n",
       "      <td>371.0</td>\n",
       "      <td>26.0</td>\n",
       "      <td>5253.0</td>\n",
       "      <td>234.0</td>\n",
       "      <td>240.0</td>\n",
       "      <td>136.0</td>\n",
       "      <td>4051.0</td>\n",
       "      <td>...</td>\n",
       "      <td>0.0</td>\n",
       "      <td>0.0</td>\n",
       "      <td>0.0</td>\n",
       "      <td>0.0</td>\n",
       "      <td>0.0</td>\n",
       "      <td>0.0</td>\n",
       "      <td>0.0</td>\n",
       "      <td>0.0</td>\n",
       "      <td>0.0</td>\n",
       "      <td>2</td>\n",
       "    </tr>\n",
       "    <tr>\n",
       "      <th>12</th>\n",
       "      <td>2742.0</td>\n",
       "      <td>134.0</td>\n",
       "      <td>22.0</td>\n",
       "      <td>150.0</td>\n",
       "      <td>69.0</td>\n",
       "      <td>3215.0</td>\n",
       "      <td>248.0</td>\n",
       "      <td>224.0</td>\n",
       "      <td>92.0</td>\n",
       "      <td>6091.0</td>\n",
       "      <td>...</td>\n",
       "      <td>0.0</td>\n",
       "      <td>0.0</td>\n",
       "      <td>0.0</td>\n",
       "      <td>0.0</td>\n",
       "      <td>0.0</td>\n",
       "      <td>0.0</td>\n",
       "      <td>0.0</td>\n",
       "      <td>0.0</td>\n",
       "      <td>0.0</td>\n",
       "      <td>2</td>\n",
       "    </tr>\n",
       "    <tr>\n",
       "      <th>13</th>\n",
       "      <td>2609.0</td>\n",
       "      <td>214.0</td>\n",
       "      <td>7.0</td>\n",
       "      <td>150.0</td>\n",
       "      <td>46.0</td>\n",
       "      <td>771.0</td>\n",
       "      <td>213.0</td>\n",
       "      <td>247.0</td>\n",
       "      <td>170.0</td>\n",
       "      <td>6211.0</td>\n",
       "      <td>...</td>\n",
       "      <td>0.0</td>\n",
       "      <td>0.0</td>\n",
       "      <td>0.0</td>\n",
       "      <td>0.0</td>\n",
       "      <td>0.0</td>\n",
       "      <td>0.0</td>\n",
       "      <td>0.0</td>\n",
       "      <td>0.0</td>\n",
       "      <td>0.0</td>\n",
       "      <td>5</td>\n",
       "    </tr>\n",
       "    <tr>\n",
       "      <th>14</th>\n",
       "      <td>2503.0</td>\n",
       "      <td>157.0</td>\n",
       "      <td>4.0</td>\n",
       "      <td>67.0</td>\n",
       "      <td>4.0</td>\n",
       "      <td>674.0</td>\n",
       "      <td>224.0</td>\n",
       "      <td>240.0</td>\n",
       "      <td>151.0</td>\n",
       "      <td>5600.0</td>\n",
       "      <td>...</td>\n",
       "      <td>0.0</td>\n",
       "      <td>0.0</td>\n",
       "      <td>0.0</td>\n",
       "      <td>0.0</td>\n",
       "      <td>0.0</td>\n",
       "      <td>0.0</td>\n",
       "      <td>0.0</td>\n",
       "      <td>0.0</td>\n",
       "      <td>0.0</td>\n",
       "      <td>5</td>\n",
       "    </tr>\n",
       "  </tbody>\n",
       "</table>\n",
       "<p>15 rows × 55 columns</p>\n",
       "</div>\n",
       "      <button class=\"colab-df-convert\" onclick=\"convertToInteractive('df-caf8336a-eb8e-4299-b4a0-a97ccfd8f547')\"\n",
       "              title=\"Convert this dataframe to an interactive table.\"\n",
       "              style=\"display:none;\">\n",
       "        \n",
       "  <svg xmlns=\"http://www.w3.org/2000/svg\" height=\"24px\"viewBox=\"0 0 24 24\"\n",
       "       width=\"24px\">\n",
       "    <path d=\"M0 0h24v24H0V0z\" fill=\"none\"/>\n",
       "    <path d=\"M18.56 5.44l.94 2.06.94-2.06 2.06-.94-2.06-.94-.94-2.06-.94 2.06-2.06.94zm-11 1L8.5 8.5l.94-2.06 2.06-.94-2.06-.94L8.5 2.5l-.94 2.06-2.06.94zm10 10l.94 2.06.94-2.06 2.06-.94-2.06-.94-.94-2.06-.94 2.06-2.06.94z\"/><path d=\"M17.41 7.96l-1.37-1.37c-.4-.4-.92-.59-1.43-.59-.52 0-1.04.2-1.43.59L10.3 9.45l-7.72 7.72c-.78.78-.78 2.05 0 2.83L4 21.41c.39.39.9.59 1.41.59.51 0 1.02-.2 1.41-.59l7.78-7.78 2.81-2.81c.8-.78.8-2.07 0-2.86zM5.41 20L4 18.59l7.72-7.72 1.47 1.35L5.41 20z\"/>\n",
       "  </svg>\n",
       "      </button>\n",
       "      \n",
       "  <style>\n",
       "    .colab-df-container {\n",
       "      display:flex;\n",
       "      flex-wrap:wrap;\n",
       "      gap: 12px;\n",
       "    }\n",
       "\n",
       "    .colab-df-convert {\n",
       "      background-color: #E8F0FE;\n",
       "      border: none;\n",
       "      border-radius: 50%;\n",
       "      cursor: pointer;\n",
       "      display: none;\n",
       "      fill: #1967D2;\n",
       "      height: 32px;\n",
       "      padding: 0 0 0 0;\n",
       "      width: 32px;\n",
       "    }\n",
       "\n",
       "    .colab-df-convert:hover {\n",
       "      background-color: #E2EBFA;\n",
       "      box-shadow: 0px 1px 2px rgba(60, 64, 67, 0.3), 0px 1px 3px 1px rgba(60, 64, 67, 0.15);\n",
       "      fill: #174EA6;\n",
       "    }\n",
       "\n",
       "    [theme=dark] .colab-df-convert {\n",
       "      background-color: #3B4455;\n",
       "      fill: #D2E3FC;\n",
       "    }\n",
       "\n",
       "    [theme=dark] .colab-df-convert:hover {\n",
       "      background-color: #434B5C;\n",
       "      box-shadow: 0px 1px 3px 1px rgba(0, 0, 0, 0.15);\n",
       "      filter: drop-shadow(0px 1px 2px rgba(0, 0, 0, 0.3));\n",
       "      fill: #FFFFFF;\n",
       "    }\n",
       "  </style>\n",
       "\n",
       "      <script>\n",
       "        const buttonEl =\n",
       "          document.querySelector('#df-caf8336a-eb8e-4299-b4a0-a97ccfd8f547 button.colab-df-convert');\n",
       "        buttonEl.style.display =\n",
       "          google.colab.kernel.accessAllowed ? 'block' : 'none';\n",
       "\n",
       "        async function convertToInteractive(key) {\n",
       "          const element = document.querySelector('#df-caf8336a-eb8e-4299-b4a0-a97ccfd8f547');\n",
       "          const dataTable =\n",
       "            await google.colab.kernel.invokeFunction('convertToInteractive',\n",
       "                                                     [key], {});\n",
       "          if (!dataTable) return;\n",
       "\n",
       "          const docLinkHtml = 'Like what you see? Visit the ' +\n",
       "            '<a target=\"_blank\" href=https://colab.research.google.com/notebooks/data_table.ipynb>data table notebook</a>'\n",
       "            + ' to learn more about interactive tables.';\n",
       "          element.innerHTML = '';\n",
       "          dataTable['output_type'] = 'display_data';\n",
       "          await google.colab.output.renderOutput(dataTable, element);\n",
       "          const docLink = document.createElement('div');\n",
       "          docLink.innerHTML = docLinkHtml;\n",
       "          element.appendChild(docLink);\n",
       "        }\n",
       "      </script>\n",
       "    </div>\n",
       "  </div>\n",
       "  "
      ],
      "text/plain": [
       "    Elevation  Aspect  Slope  Horizontal_Distance_To_Hydrology  \\\n",
       "0      2596.0    51.0    3.0                             258.0   \n",
       "1      2590.0    56.0    2.0                             212.0   \n",
       "2      2804.0   139.0    9.0                             268.0   \n",
       "3      2785.0   155.0   18.0                             242.0   \n",
       "4      2595.0    45.0    2.0                             153.0   \n",
       "5      2579.0   132.0    6.0                             300.0   \n",
       "6      2606.0    45.0    7.0                             270.0   \n",
       "7      2605.0    49.0    4.0                             234.0   \n",
       "8      2617.0    45.0    9.0                             240.0   \n",
       "9      2612.0    59.0   10.0                             247.0   \n",
       "10     2612.0   201.0    4.0                             180.0   \n",
       "11     2886.0   151.0   11.0                             371.0   \n",
       "12     2742.0   134.0   22.0                             150.0   \n",
       "13     2609.0   214.0    7.0                             150.0   \n",
       "14     2503.0   157.0    4.0                              67.0   \n",
       "\n",
       "    Vertical_Distance_To_Hydrology  Horizontal_Distance_To_Roadways  \\\n",
       "0                              0.0                            510.0   \n",
       "1                             -6.0                            390.0   \n",
       "2                             65.0                           3180.0   \n",
       "3                            118.0                           3090.0   \n",
       "4                             -1.0                            391.0   \n",
       "5                            -15.0                             67.0   \n",
       "6                              5.0                            633.0   \n",
       "7                              7.0                            573.0   \n",
       "8                             56.0                            666.0   \n",
       "9                             11.0                            636.0   \n",
       "10                            51.0                            735.0   \n",
       "11                            26.0                           5253.0   \n",
       "12                            69.0                           3215.0   \n",
       "13                            46.0                            771.0   \n",
       "14                             4.0                            674.0   \n",
       "\n",
       "    Hillshade_9am  Hillshade_Noon  Hillshade_3pm  \\\n",
       "0           221.0           232.0          148.0   \n",
       "1           220.0           235.0          151.0   \n",
       "2           234.0           238.0          135.0   \n",
       "3           238.0           238.0          122.0   \n",
       "4           220.0           234.0          150.0   \n",
       "5           230.0           237.0          140.0   \n",
       "6           222.0           225.0          138.0   \n",
       "7           222.0           230.0          144.0   \n",
       "8           223.0           221.0          133.0   \n",
       "9           228.0           219.0          124.0   \n",
       "10          218.0           243.0          161.0   \n",
       "11          234.0           240.0          136.0   \n",
       "12          248.0           224.0           92.0   \n",
       "13          213.0           247.0          170.0   \n",
       "14          224.0           240.0          151.0   \n",
       "\n",
       "    Horizontal_Distance_To_Fire_Points  ...  Soil_Type_31  Soil_Type_32  \\\n",
       "0                               6279.0  ...           0.0           0.0   \n",
       "1                               6225.0  ...           0.0           0.0   \n",
       "2                               6121.0  ...           0.0           0.0   \n",
       "3                               6211.0  ...           0.0           0.0   \n",
       "4                               6172.0  ...           0.0           0.0   \n",
       "5                               6031.0  ...           0.0           0.0   \n",
       "6                               6256.0  ...           0.0           0.0   \n",
       "7                               6228.0  ...           0.0           0.0   \n",
       "8                               6244.0  ...           0.0           0.0   \n",
       "9                               6230.0  ...           0.0           0.0   \n",
       "10                              6222.0  ...           0.0           0.0   \n",
       "11                              4051.0  ...           0.0           0.0   \n",
       "12                              6091.0  ...           0.0           0.0   \n",
       "13                              6211.0  ...           0.0           0.0   \n",
       "14                              5600.0  ...           0.0           0.0   \n",
       "\n",
       "    Soil_Type_33  Soil_Type_34  Soil_Type_35  Soil_Type_36  Soil_Type_37  \\\n",
       "0            0.0           0.0           0.0           0.0           0.0   \n",
       "1            0.0           0.0           0.0           0.0           0.0   \n",
       "2            0.0           0.0           0.0           0.0           0.0   \n",
       "3            0.0           0.0           0.0           0.0           0.0   \n",
       "4            0.0           0.0           0.0           0.0           0.0   \n",
       "5            0.0           0.0           0.0           0.0           0.0   \n",
       "6            0.0           0.0           0.0           0.0           0.0   \n",
       "7            0.0           0.0           0.0           0.0           0.0   \n",
       "8            0.0           0.0           0.0           0.0           0.0   \n",
       "9            0.0           0.0           0.0           0.0           0.0   \n",
       "10           0.0           0.0           0.0           0.0           0.0   \n",
       "11           0.0           0.0           0.0           0.0           0.0   \n",
       "12           0.0           0.0           0.0           0.0           0.0   \n",
       "13           0.0           0.0           0.0           0.0           0.0   \n",
       "14           0.0           0.0           0.0           0.0           0.0   \n",
       "\n",
       "    Soil_Type_38  Soil_Type_39  target  \n",
       "0            0.0           0.0       5  \n",
       "1            0.0           0.0       5  \n",
       "2            0.0           0.0       2  \n",
       "3            0.0           0.0       2  \n",
       "4            0.0           0.0       5  \n",
       "5            0.0           0.0       2  \n",
       "6            0.0           0.0       5  \n",
       "7            0.0           0.0       5  \n",
       "8            0.0           0.0       5  \n",
       "9            0.0           0.0       5  \n",
       "10           0.0           0.0       5  \n",
       "11           0.0           0.0       2  \n",
       "12           0.0           0.0       2  \n",
       "13           0.0           0.0       5  \n",
       "14           0.0           0.0       5  \n",
       "\n",
       "[15 rows x 55 columns]"
      ]
     },
     "execution_count": 29,
     "metadata": {},
     "output_type": "execute_result"
    }
   ],
   "source": [
    "covtype = sklearn.datasets.fetch_covtype()\n",
    "\n",
    "df = pd.DataFrame( data = np.c_[covtype['data'], covtype['target']],\n",
    "                      columns = covtype['feature_names'] + ['target'] )\n",
    "\n",
    "df.target = df.target.astype( int )\n",
    "\n",
    "df.head(15)"
   ]
  },
  {
   "cell_type": "markdown",
   "metadata": {
    "id": "saSmsUa616jZ"
   },
   "source": [
    "1. Многоклассовая классификация:\n",
    "\n",
    "1.1 На любом датасете продемонстрировать многоклассовую классификацию с помощью ЛЮБОГО алгоритма. Оценить accuracy."
   ]
  },
  {
   "cell_type": "code",
   "execution_count": null,
   "metadata": {
    "colab": {
     "base_uri": "https://localhost:8080/"
    },
    "executionInfo": {
     "elapsed": 23987,
     "status": "ok",
     "timestamp": 1661535162722,
     "user": {
      "displayName": "Юлия Агафонова",
      "userId": "09643918871768043663"
     },
     "user_tz": -240
    },
    "id": "YbsKYxKg18Rp",
    "outputId": "9fe3ea63-e273-4939-9d94-a8f70c08af68"
   },
   "outputs": [
    {
     "name": "stdout",
     "output_type": "stream",
     "text": [
      "0.5756369920070498\n"
     ]
    }
   ],
   "source": [
    "df_X = df.drop(columns=['target'])\n",
    "df_y = df['target']\n",
    "\n",
    "# scaled_X = StandardScaler().fit_transform(df_X)\n",
    "\n",
    "X_train, X_test, y_train, y_test = train_test_split(df_X, df_y, test_size=0.25, random_state=42)\n",
    "\n",
    "clf = RandomForestClassifier(max_depth=2, random_state=0)\n",
    "clf.fit(X_train, y_train)\n",
    "\n",
    "data_y_pred = clf.predict(X_test)\n",
    "\n",
    "from sklearn.metrics import accuracy_score\n",
    "print(accuracy_score(y_test, data_y_pred))"
   ]
  },
  {
   "cell_type": "markdown",
   "metadata": {
    "id": "wiMSvZMl3ltg"
   },
   "source": [
    "1.2. То же самое с использованием кросс-валидации"
   ]
  },
  {
   "cell_type": "code",
   "execution_count": null,
   "metadata": {
    "colab": {
     "base_uri": "https://localhost:8080/"
    },
    "executionInfo": {
     "elapsed": 73540,
     "status": "ok",
     "timestamp": 1661535236258,
     "user": {
      "displayName": "Юлия Агафонова",
      "userId": "09643918871768043663"
     },
     "user_tz": -240
    },
    "id": "jEMhcp0Q3msW",
    "outputId": "f6b869c5-7f0f-4f20-a744-04dc7fcb0b14"
   },
   "outputs": [
    {
     "name": "stdout",
     "output_type": "stream",
     "text": [
      "0.5700628281813028\n"
     ]
    }
   ],
   "source": [
    "from sklearn.model_selection import cross_val_score\n",
    "\n",
    "df_X = df.drop(columns=['target'])\n",
    "df_y = df['target']\n",
    "\n",
    "# scaled_X = StandardScaler().fit_transform(df_X)\n",
    "\n",
    "X_train, X_test, y_train, y_test = train_test_split(df_X, df_y, test_size=0.25, random_state=42)\n",
    "\n",
    "clf = RandomForestClassifier(max_depth=2, random_state=0)\n",
    "\n",
    "scores = cross_val_score(clf, X_train, y_train, cv=5, scoring='accuracy')\n",
    "print(scores.mean())\n",
    "\n",
    "# data_y_pred = clf.predict(X_test)\n",
    "\n",
    "# from sklearn.metrics import accuracy_score\n",
    "# print(accuracy_score(y_test, data_y_pred))"
   ]
  },
  {
   "cell_type": "markdown",
   "metadata": {
    "id": "MTay-0xK3m42"
   },
   "source": [
    "1.3. Поиграться с гиперпараметром, связанным со сложностью модели (в случае kNN — k_neighbours) и построить график accuracy для train set и test_set для разных значений гиперпараметра (в лекции есть пример построения подобного графика для kNN и датасета cancer, но можно строить как угодно такой график)"
   ]
  },
  {
   "cell_type": "code",
   "execution_count": 30,
   "metadata": {
    "colab": {
     "base_uri": "https://localhost:8080/"
    },
    "executionInfo": {
     "elapsed": 214678,
     "status": "ok",
     "timestamp": 1661537231226,
     "user": {
      "displayName": "Юлия Агафонова",
      "userId": "09643918871768043663"
     },
     "user_tz": -240
    },
    "id": "h6v6xlza3pis",
    "outputId": "708f2162-03b0-4be2-ea7e-83994cd0f316"
   },
   "outputs": [
    {
     "name": "stdout",
     "output_type": "stream",
     "text": [
      "100\n",
      "150\n",
      "200\n",
      "250\n",
      "300\n"
     ]
    }
   ],
   "source": [
    "df_X = df.drop(columns=['target'])\n",
    "df_y = df['target']\n",
    "\n",
    "# scaled_X = StandardScaler().fit_transform(df_X)\n",
    "\n",
    "X_train, X_test, y_train, y_test = train_test_split(df_X, df_y, test_size=0.25, random_state=42)\n",
    "\n",
    "list_n_estimators = [100, 150, 200, 250, 300]\n",
    "list_test_set = []\n",
    "list_train_set = []\n",
    "\n",
    "for item in list_n_estimators:\n",
    "\n",
    "  print(item)\n",
    "\n",
    "  clf = RandomForestClassifier(n_estimators=item, max_depth=2, random_state=0)\n",
    "  clf.fit(X_train, y_train)\n",
    "\n",
    "  data_y_pred = clf.predict(X_test)\n",
    "  data_y_train_pred = clf.predict(X_train)\n",
    "\n",
    "  test_set = accuracy_score(y_test, data_y_pred)\n",
    "  train_set = accuracy_score(y_train, data_y_train_pred)\n",
    "\n",
    "  list_test_set.append(test_set)\n",
    "  list_train_set.append(train_set)"
   ]
  },
  {
   "cell_type": "code",
   "execution_count": 38,
   "metadata": {
    "colab": {
     "base_uri": "https://localhost:8080/",
     "height": 265
    },
    "executionInfo": {
     "elapsed": 365,
     "status": "ok",
     "timestamp": 1661537423258,
     "user": {
      "displayName": "Юлия Агафонова",
      "userId": "09643918871768043663"
     },
     "user_tz": -240
    },
    "id": "u1Hb89vdTzLa",
    "outputId": "f1116763-66ee-4d51-e17a-7cd94a2b976b"
   },
   "outputs": [
    {
     "data": {
      "image/png": "[encoded data removed]",
      "text/plain": [
       "<Figure size 432x288 with 1 Axes>"
      ]
     },
     "metadata": {
      "needs_background": "light"
     },
     "output_type": "display_data"
    }
   ],
   "source": [
    "import matplotlib.pyplot as plt\n",
    "\n",
    "fig, ax = plt.subplots()\n",
    "\n",
    "plt.plot(list_n_estimators, list_test_set, color='green')\n",
    "plt.plot(list_n_estimators, list_train_set, color='red')\n",
    "\n",
    "plt.show()"
   ]
  },
  {
   "cell_type": "code",
   "execution_count": 39,
   "metadata": {
    "colab": {
     "base_uri": "https://localhost:8080/"
    },
    "executionInfo": {
     "elapsed": 319,
     "status": "ok",
     "timestamp": 1661537429322,
     "user": {
      "displayName": "Юлия Агафонова",
      "userId": "09643918871768043663"
     },
     "user_tz": -240
    },
    "id": "47OyrNncWR7o",
    "outputId": "3f106dd1-6774-423f-9807-f24ec7b34a04"
   },
   "outputs": [
    {
     "data": {
      "text/plain": [
       "[0.5756369920070498,\n",
       " 0.5719744170516272,\n",
       " 0.5797608311015952,\n",
       " 0.5806971284586204,\n",
       " 0.5792100679504038]"
      ]
     },
     "execution_count": 39,
     "metadata": {},
     "output_type": "execute_result"
    }
   ],
   "source": [
    "list_test_set"
   ]
  },
  {
   "cell_type": "code",
   "execution_count": 40,
   "metadata": {
    "colab": {
     "base_uri": "https://localhost:8080/"
    },
    "executionInfo": {
     "elapsed": 299,
     "status": "ok",
     "timestamp": 1661537436584,
     "user": {
      "displayName": "Юлия Агафонова",
      "userId": "09643918871768043663"
     },
     "user_tz": -240
    },
    "id": "lw6U4W1AWTw-",
    "outputId": "c8e1b751-5403-4d64-bd6b-b082eb84ecb7"
   },
   "outputs": [
    {
     "data": {
      "text/plain": [
       "[0.5782416427428922,\n",
       " 0.5746479131813687,\n",
       " 0.5821635353486675,\n",
       " 0.5832191647217843,\n",
       " 0.5817045660560081]"
      ]
     },
     "execution_count": 40,
     "metadata": {},
     "output_type": "execute_result"
    }
   ],
   "source": [
    "list_train_set"
   ]
  },
  {
   "cell_type": "markdown",
   "metadata": {
    "id": "DgCGW1ZP3r3r"
   },
   "source": [
    "1.4. Построить confusion matrix (это вроде матрицы TN / TP/ FN/ FP, только расширенной для многоклассовой классификации, чтобы понять в какие стороны чаще ошибается классификатор). (пример):"
   ]
  },
  {
   "cell_type": "code",
   "execution_count": null,
   "metadata": {
    "colab": {
     "base_uri": "https://localhost:8080/",
     "height": 282
    },
    "executionInfo": {
     "elapsed": 364,
     "status": "ok",
     "timestamp": 1661535282807,
     "user": {
      "displayName": "Юлия Агафонова",
      "userId": "09643918871768043663"
     },
     "user_tz": -240
    },
    "id": "SAwoBZ3e3tFu",
    "outputId": "723d10b8-43eb-4b56-b1eb-8c2da0db4f36"
   },
   "outputs": [
    {
     "data": {
      "text/plain": [
       "<matplotlib.axes._subplots.AxesSubplot at 0x7ff47010ed50>"
      ]
     },
     "execution_count": 6,
     "metadata": {},
     "output_type": "execute_result"
    },
    {
     "data": {
      "image/png": "[encoded data removed]",
      "text/plain": [
       "<Figure size 432x288 with 2 Axes>"
      ]
     },
     "metadata": {
      "needs_background": "light"
     },
     "output_type": "display_data"
    }
   ],
   "source": [
    "from sklearn.metrics import confusion_matrix\n",
    "\n",
    "confusion_scores = confusion_matrix(y_test, data_y_pred)\n",
    "\n",
    "confusion_df = pd.DataFrame(confusion_scores)\n",
    "sb.heatmap( confusion_df, annot = True)"
   ]
  },
  {
   "cell_type": "markdown",
   "metadata": {
    "id": "57dvLJAr32cm"
   },
   "source": [
    "2. Бинарная классификация.\n",
    "\n",
    "На любом (но уже другом, бинарном) датасете продемонстрировать бинарную классификацию (можно использовать любой алгоритм), посчитать метрики: accuracy, precision, recall, f-measure, а также составить classification_report"
   ]
  },
  {
   "cell_type": "markdown",
   "metadata": {
    "id": "7hWDlZf9OYx3"
   },
   "source": [
    "https://scikit-learn.org/stable/modules/generated/sklearn.datasets.load_breast_cancer.html#sklearn.datasets.load_breast_cancer"
   ]
  },
  {
   "cell_type": "code",
   "execution_count": 27,
   "metadata": {
    "colab": {
     "base_uri": "https://localhost:8080/"
    },
    "executionInfo": {
     "elapsed": 1044,
     "status": "ok",
     "timestamp": 1661536209026,
     "user": {
      "displayName": "Юлия Агафонова",
      "userId": "09643918871768043663"
     },
     "user_tz": -240
    },
    "id": "JLSp1WAx33Ug",
    "outputId": "ddbe43bc-745a-4d06-c874-43c88d91b216"
   },
   "outputs": [
    {
     "name": "stdout",
     "output_type": "stream",
     "text": [
      "accuracy 0.958041958041958\n",
      "f1 0.9662921348314608\n",
      "precision 0.9772727272727273\n",
      "recall 0.9555555555555556\n",
      "              precision    recall  f1-score   support\n",
      "\n",
      "           0       0.93      0.96      0.94        53\n",
      "           1       0.98      0.96      0.97        90\n",
      "\n",
      "    accuracy                           0.96       143\n",
      "   macro avg       0.95      0.96      0.96       143\n",
      "weighted avg       0.96      0.96      0.96       143\n",
      "\n"
     ]
    }
   ],
   "source": [
    "X, y = sklearn.datasets.load_breast_cancer(return_X_y=True)\n",
    "X_train, X_test, y_train, y_test = train_test_split(X, y, test_size=0.25, random_state=0)\n",
    "\n",
    "clf = RandomForestClassifier(n_estimators=250, max_depth=2, random_state=0)\n",
    "clf.fit(X_train, y_train)\n",
    "\n",
    "data_y_pred = clf.predict(X_test)\n",
    "\n",
    "print('accuracy', accuracy_score(y_test, data_y_pred))\n",
    "print('f1', f1_score(y_test, data_y_pred))\n",
    "print('precision', precision_score(y_test, data_y_pred))\n",
    "print('recall', recall_score(y_test, data_y_pred))\n",
    "print(classification_report(y_test, data_y_pred))"
   ]
  },
  {
   "cell_type": "markdown",
   "metadata": {
    "id": "V2EXvX_A35eA"
   },
   "source": [
    "3. Использование нормализации признаков В обоих задачах (бинарной и многоклассовой классификации) попробовать также вариант с предварительной нормализацией признаков (StandardScalerили MinMaxScaler). Оценить метрики качества в случае с нормализованными признаками и ненормализованными."
   ]
  },
  {
   "cell_type": "code",
   "execution_count": 25,
   "metadata": {
    "colab": {
     "base_uri": "https://localhost:8080/"
    },
    "executionInfo": {
     "elapsed": 25857,
     "status": "ok",
     "timestamp": 1661536170186,
     "user": {
      "displayName": "Юлия Агафонова",
      "userId": "09643918871768043663"
     },
     "user_tz": -240
    },
    "id": "hbqv7pQk36Nx",
    "outputId": "322eb464-decd-4791-c464-19b19d0a5726"
   },
   "outputs": [
    {
     "name": "stdout",
     "output_type": "stream",
     "text": [
      "0.5756369920070498\n"
     ]
    }
   ],
   "source": [
    "#многоклассовый, нормализация помогла\n",
    "df_X = df.drop(columns=['target'])\n",
    "df_y = df['target']\n",
    "\n",
    "scaled_X = StandardScaler().fit_transform(df_X)\n",
    "\n",
    "X_train, X_test, y_train, y_test = train_test_split(scaled_X, df_y, test_size=0.25, random_state=42)\n",
    "\n",
    "clf = RandomForestClassifier(max_depth=2, random_state=0)\n",
    "clf.fit(X_train, y_train)\n",
    "\n",
    "data_y_pred = clf.predict(X_test)\n",
    "\n",
    "from sklearn.metrics import accuracy_score\n",
    "print(accuracy_score(y_test, data_y_pred))"
   ]
  },
  {
   "cell_type": "code",
   "execution_count": 26,
   "metadata": {
    "colab": {
     "base_uri": "https://localhost:8080/"
    },
    "executionInfo": {
     "elapsed": 1723,
     "status": "ok",
     "timestamp": 1661536202001,
     "user": {
      "displayName": "Юлия Агафонова",
      "userId": "09643918871768043663"
     },
     "user_tz": -240
    },
    "id": "xLUzXTO2RITO",
    "outputId": "472d76cc-c60d-4916-c576-80065ed472e7"
   },
   "outputs": [
    {
     "name": "stdout",
     "output_type": "stream",
     "text": [
      "accuracy 0.958041958041958\n",
      "f1 0.9662921348314608\n",
      "precision 0.9772727272727273\n",
      "recall 0.9555555555555556\n",
      "              precision    recall  f1-score   support\n",
      "\n",
      "           0       0.93      0.96      0.94        53\n",
      "           1       0.98      0.96      0.97        90\n",
      "\n",
      "    accuracy                           0.96       143\n",
      "   macro avg       0.95      0.96      0.96       143\n",
      "weighted avg       0.96      0.96      0.96       143\n",
      "\n"
     ]
    }
   ],
   "source": [
    "#бинарный, нормализация ничего не дала. скорее всего из-за особенностей набора данных\n",
    "X, y = sklearn.datasets.load_breast_cancer(return_X_y=True)\n",
    "\n",
    "scaled_X = StandardScaler().fit_transform(X)\n",
    "\n",
    "X_train, X_test, y_train, y_test = train_test_split(scaled_X, y, test_size=0.25,random_state=0)\n",
    "\n",
    "clf = RandomForestClassifier(n_estimators=250, max_depth=2, random_state=0)\n",
    "clf.fit(X_train, y_train)\n",
    "\n",
    "data_y_pred = clf.predict(X_test)\n",
    "\n",
    "print('accuracy', accuracy_score(y_test, data_y_pred))\n",
    "print('f1', f1_score(y_test, data_y_pred))\n",
    "print('precision', precision_score(y_test, data_y_pred))\n",
    "print('recall', recall_score(y_test, data_y_pred))\n",
    "print(classification_report(y_test, data_y_pred))"
   ]
  }
 ],
 "metadata": {
  "colab": {
   "authorship_tag": "ABX9TyOyPbnXOOTKXuA9vvHCAUqJ",
   "collapsed_sections": [],
   "name": "3_lab_ersh.ipynb",
   "provenance": []
  },
  "kernelspec": {
   "display_name": "Python 3 (ipykernel)",
   "language": "python",
   "name": "python3"
  },
  "language_info": {
   "codemirror_mode": {
    "name": "ipython",
    "version": 3
   },
   "file_extension": ".py",
   "mimetype": "text/x-python",
   "name": "python",
   "nbconvert_exporter": "python",
   "pygments_lexer": "ipython3",
   "version": "3.9.7"
  }
 },
 "nbformat": 4,
 "nbformat_minor": 1
}
