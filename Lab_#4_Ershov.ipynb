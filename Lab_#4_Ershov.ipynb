{
 "cells": [
  {
   "cell_type": "code",
   "execution_count": 2,
   "metadata": {
    "executionInfo": {
     "elapsed": 922,
     "status": "ok",
     "timestamp": 1661681867688,
     "user": {
      "displayName": "Юлия Агафонова",
      "userId": "09643918871768043663"
     },
     "user_tz": -240
    },
    "id": "p2jluU9YYDaX"
   },
   "outputs": [],
   "source": [
    "import sklearn.datasets\n",
    "import sklearn\n",
    "import numpy as np\n",
    "import pandas as pd\n",
    "import numpy as np\n",
    "import seaborn as sb\n",
    "import matplotlib.pyplot as plt\n",
    "\n",
    "from sklearn.model_selection import train_test_split, GridSearchCV\n",
    "from sklearn.ensemble import RandomForestClassifier\n",
    "from sklearn.preprocessing import StandardScaler\n",
    "from sklearn.metrics import accuracy_score, classification_report, f1_score, precision_score, recall_score\n",
    "from sklearn.neighbors import KNeighborsClassifier\n",
    "from sklearn.pipeline import Pipeline\n",
    "from sklearn.tree import DecisionTreeClassifier"
   ]
  },
  {
   "cell_type": "markdown",
   "metadata": {
    "id": "-jjn4jW2ZDpY"
   },
   "source": [
    "Выберите набор данных для классификации (бинарной или многоклассовой — не важно). Опишите данные, что обозначает каждый столбец, какого типа (категориальный, вещественный, целочисленный, бинарный) данный столбец, при необходимости для категориальных в том числе бинарных признаков привести расшифровку их значений. В общем, проведите \"визуальный\" анализ ваших данных.\n",
    "1.0. Для вашего датасета преобразовать категориальные признаки в бинарные с помощью pd.factorize / pd.get_dummies"
   ]
  },
  {
   "cell_type": "code",
   "execution_count": 3,
   "metadata": {
    "colab": {
     "base_uri": "https://localhost:8080/",
     "height": 613
    },
    "executionInfo": {
     "elapsed": 82374,
     "status": "ok",
     "timestamp": 1661681950963,
     "user": {
      "displayName": "Юлия Агафонова",
      "userId": "09643918871768043663"
     },
     "user_tz": -240
    },
    "id": "INoBnn1qZauq",
    "outputId": "874cf039-ac57-44eb-d760-1d2717500cee"
   },
   "outputs": [
    {
     "data": {
      "text/html": [
       "\n",
       "  <div id=\"df-a643bf5e-71c8-45ca-a1e2-53151639ac8e\">\n",
       "    <div class=\"colab-df-container\">\n",
       "      <div>\n",
       "<style scoped>\n",
       "    .dataframe tbody tr th:only-of-type {\n",
       "        vertical-align: middle;\n",
       "    }\n",
       "\n",
       "    .dataframe tbody tr th {\n",
       "        vertical-align: top;\n",
       "    }\n",
       "\n",
       "    .dataframe thead th {\n",
       "        text-align: right;\n",
       "    }\n",
       "</style>\n",
       "<table border=\"1\" class=\"dataframe\">\n",
       "  <thead>\n",
       "    <tr style=\"text-align: right;\">\n",
       "      <th></th>\n",
       "      <th>Elevation</th>\n",
       "      <th>Aspect</th>\n",
       "      <th>Slope</th>\n",
       "      <th>Horizontal_Distance_To_Hydrology</th>\n",
       "      <th>Vertical_Distance_To_Hydrology</th>\n",
       "      <th>Horizontal_Distance_To_Roadways</th>\n",
       "      <th>Hillshade_9am</th>\n",
       "      <th>Hillshade_Noon</th>\n",
       "      <th>Hillshade_3pm</th>\n",
       "      <th>Horizontal_Distance_To_Fire_Points</th>\n",
       "      <th>...</th>\n",
       "      <th>Soil_Type_31</th>\n",
       "      <th>Soil_Type_32</th>\n",
       "      <th>Soil_Type_33</th>\n",
       "      <th>Soil_Type_34</th>\n",
       "      <th>Soil_Type_35</th>\n",
       "      <th>Soil_Type_36</th>\n",
       "      <th>Soil_Type_37</th>\n",
       "      <th>Soil_Type_38</th>\n",
       "      <th>Soil_Type_39</th>\n",
       "      <th>target</th>\n",
       "    </tr>\n",
       "  </thead>\n",
       "  <tbody>\n",
       "    <tr>\n",
       "      <th>0</th>\n",
       "      <td>2596.0</td>\n",
       "      <td>51.0</td>\n",
       "      <td>3.0</td>\n",
       "      <td>258.0</td>\n",
       "      <td>0.0</td>\n",
       "      <td>510.0</td>\n",
       "      <td>221.0</td>\n",
       "      <td>232.0</td>\n",
       "      <td>148.0</td>\n",
       "      <td>6279.0</td>\n",
       "      <td>...</td>\n",
       "      <td>0.0</td>\n",
       "      <td>0.0</td>\n",
       "      <td>0.0</td>\n",
       "      <td>0.0</td>\n",
       "      <td>0.0</td>\n",
       "      <td>0.0</td>\n",
       "      <td>0.0</td>\n",
       "      <td>0.0</td>\n",
       "      <td>0.0</td>\n",
       "      <td>5</td>\n",
       "    </tr>\n",
       "    <tr>\n",
       "      <th>1</th>\n",
       "      <td>2590.0</td>\n",
       "      <td>56.0</td>\n",
       "      <td>2.0</td>\n",
       "      <td>212.0</td>\n",
       "      <td>-6.0</td>\n",
       "      <td>390.0</td>\n",
       "      <td>220.0</td>\n",
       "      <td>235.0</td>\n",
       "      <td>151.0</td>\n",
       "      <td>6225.0</td>\n",
       "      <td>...</td>\n",
       "      <td>0.0</td>\n",
       "      <td>0.0</td>\n",
       "      <td>0.0</td>\n",
       "      <td>0.0</td>\n",
       "      <td>0.0</td>\n",
       "      <td>0.0</td>\n",
       "      <td>0.0</td>\n",
       "      <td>0.0</td>\n",
       "      <td>0.0</td>\n",
       "      <td>5</td>\n",
       "    </tr>\n",
       "    <tr>\n",
       "      <th>2</th>\n",
       "      <td>2804.0</td>\n",
       "      <td>139.0</td>\n",
       "      <td>9.0</td>\n",
       "      <td>268.0</td>\n",
       "      <td>65.0</td>\n",
       "      <td>3180.0</td>\n",
       "      <td>234.0</td>\n",
       "      <td>238.0</td>\n",
       "      <td>135.0</td>\n",
       "      <td>6121.0</td>\n",
       "      <td>...</td>\n",
       "      <td>0.0</td>\n",
       "      <td>0.0</td>\n",
       "      <td>0.0</td>\n",
       "      <td>0.0</td>\n",
       "      <td>0.0</td>\n",
       "      <td>0.0</td>\n",
       "      <td>0.0</td>\n",
       "      <td>0.0</td>\n",
       "      <td>0.0</td>\n",
       "      <td>2</td>\n",
       "    </tr>\n",
       "    <tr>\n",
       "      <th>3</th>\n",
       "      <td>2785.0</td>\n",
       "      <td>155.0</td>\n",
       "      <td>18.0</td>\n",
       "      <td>242.0</td>\n",
       "      <td>118.0</td>\n",
       "      <td>3090.0</td>\n",
       "      <td>238.0</td>\n",
       "      <td>238.0</td>\n",
       "      <td>122.0</td>\n",
       "      <td>6211.0</td>\n",
       "      <td>...</td>\n",
       "      <td>0.0</td>\n",
       "      <td>0.0</td>\n",
       "      <td>0.0</td>\n",
       "      <td>0.0</td>\n",
       "      <td>0.0</td>\n",
       "      <td>0.0</td>\n",
       "      <td>0.0</td>\n",
       "      <td>0.0</td>\n",
       "      <td>0.0</td>\n",
       "      <td>2</td>\n",
       "    </tr>\n",
       "    <tr>\n",
       "      <th>4</th>\n",
       "      <td>2595.0</td>\n",
       "      <td>45.0</td>\n",
       "      <td>2.0</td>\n",
       "      <td>153.0</td>\n",
       "      <td>-1.0</td>\n",
       "      <td>391.0</td>\n",
       "      <td>220.0</td>\n",
       "      <td>234.0</td>\n",
       "      <td>150.0</td>\n",
       "      <td>6172.0</td>\n",
       "      <td>...</td>\n",
       "      <td>0.0</td>\n",
       "      <td>0.0</td>\n",
       "      <td>0.0</td>\n",
       "      <td>0.0</td>\n",
       "      <td>0.0</td>\n",
       "      <td>0.0</td>\n",
       "      <td>0.0</td>\n",
       "      <td>0.0</td>\n",
       "      <td>0.0</td>\n",
       "      <td>5</td>\n",
       "    </tr>\n",
       "    <tr>\n",
       "      <th>5</th>\n",
       "      <td>2579.0</td>\n",
       "      <td>132.0</td>\n",
       "      <td>6.0</td>\n",
       "      <td>300.0</td>\n",
       "      <td>-15.0</td>\n",
       "      <td>67.0</td>\n",
       "      <td>230.0</td>\n",
       "      <td>237.0</td>\n",
       "      <td>140.0</td>\n",
       "      <td>6031.0</td>\n",
       "      <td>...</td>\n",
       "      <td>0.0</td>\n",
       "      <td>0.0</td>\n",
       "      <td>0.0</td>\n",
       "      <td>0.0</td>\n",
       "      <td>0.0</td>\n",
       "      <td>0.0</td>\n",
       "      <td>0.0</td>\n",
       "      <td>0.0</td>\n",
       "      <td>0.0</td>\n",
       "      <td>2</td>\n",
       "    </tr>\n",
       "    <tr>\n",
       "      <th>6</th>\n",
       "      <td>2606.0</td>\n",
       "      <td>45.0</td>\n",
       "      <td>7.0</td>\n",
       "      <td>270.0</td>\n",
       "      <td>5.0</td>\n",
       "      <td>633.0</td>\n",
       "      <td>222.0</td>\n",
       "      <td>225.0</td>\n",
       "      <td>138.0</td>\n",
       "      <td>6256.0</td>\n",
       "      <td>...</td>\n",
       "      <td>0.0</td>\n",
       "      <td>0.0</td>\n",
       "      <td>0.0</td>\n",
       "      <td>0.0</td>\n",
       "      <td>0.0</td>\n",
       "      <td>0.0</td>\n",
       "      <td>0.0</td>\n",
       "      <td>0.0</td>\n",
       "      <td>0.0</td>\n",
       "      <td>5</td>\n",
       "    </tr>\n",
       "    <tr>\n",
       "      <th>7</th>\n",
       "      <td>2605.0</td>\n",
       "      <td>49.0</td>\n",
       "      <td>4.0</td>\n",
       "      <td>234.0</td>\n",
       "      <td>7.0</td>\n",
       "      <td>573.0</td>\n",
       "      <td>222.0</td>\n",
       "      <td>230.0</td>\n",
       "      <td>144.0</td>\n",
       "      <td>6228.0</td>\n",
       "      <td>...</td>\n",
       "      <td>0.0</td>\n",
       "      <td>0.0</td>\n",
       "      <td>0.0</td>\n",
       "      <td>0.0</td>\n",
       "      <td>0.0</td>\n",
       "      <td>0.0</td>\n",
       "      <td>0.0</td>\n",
       "      <td>0.0</td>\n",
       "      <td>0.0</td>\n",
       "      <td>5</td>\n",
       "    </tr>\n",
       "    <tr>\n",
       "      <th>8</th>\n",
       "      <td>2617.0</td>\n",
       "      <td>45.0</td>\n",
       "      <td>9.0</td>\n",
       "      <td>240.0</td>\n",
       "      <td>56.0</td>\n",
       "      <td>666.0</td>\n",
       "      <td>223.0</td>\n",
       "      <td>221.0</td>\n",
       "      <td>133.0</td>\n",
       "      <td>6244.0</td>\n",
       "      <td>...</td>\n",
       "      <td>0.0</td>\n",
       "      <td>0.0</td>\n",
       "      <td>0.0</td>\n",
       "      <td>0.0</td>\n",
       "      <td>0.0</td>\n",
       "      <td>0.0</td>\n",
       "      <td>0.0</td>\n",
       "      <td>0.0</td>\n",
       "      <td>0.0</td>\n",
       "      <td>5</td>\n",
       "    </tr>\n",
       "    <tr>\n",
       "      <th>9</th>\n",
       "      <td>2612.0</td>\n",
       "      <td>59.0</td>\n",
       "      <td>10.0</td>\n",
       "      <td>247.0</td>\n",
       "      <td>11.0</td>\n",
       "      <td>636.0</td>\n",
       "      <td>228.0</td>\n",
       "      <td>219.0</td>\n",
       "      <td>124.0</td>\n",
       "      <td>6230.0</td>\n",
       "      <td>...</td>\n",
       "      <td>0.0</td>\n",
       "      <td>0.0</td>\n",
       "      <td>0.0</td>\n",
       "      <td>0.0</td>\n",
       "      <td>0.0</td>\n",
       "      <td>0.0</td>\n",
       "      <td>0.0</td>\n",
       "      <td>0.0</td>\n",
       "      <td>0.0</td>\n",
       "      <td>5</td>\n",
       "    </tr>\n",
       "    <tr>\n",
       "      <th>10</th>\n",
       "      <td>2612.0</td>\n",
       "      <td>201.0</td>\n",
       "      <td>4.0</td>\n",
       "      <td>180.0</td>\n",
       "      <td>51.0</td>\n",
       "      <td>735.0</td>\n",
       "      <td>218.0</td>\n",
       "      <td>243.0</td>\n",
       "      <td>161.0</td>\n",
       "      <td>6222.0</td>\n",
       "      <td>...</td>\n",
       "      <td>0.0</td>\n",
       "      <td>0.0</td>\n",
       "      <td>0.0</td>\n",
       "      <td>0.0</td>\n",
       "      <td>0.0</td>\n",
       "      <td>0.0</td>\n",
       "      <td>0.0</td>\n",
       "      <td>0.0</td>\n",
       "      <td>0.0</td>\n",
       "      <td>5</td>\n",
       "    </tr>\n",
       "    <tr>\n",
       "      <th>11</th>\n",
       "      <td>2886.0</td>\n",
       "      <td>151.0</td>\n",
       "      <td>11.0</td>\n",
       "      <td>371.0</td>\n",
       "      <td>26.0</td>\n",
       "      <td>5253.0</td>\n",
       "      <td>234.0</td>\n",
       "      <td>240.0</td>\n",
       "      <td>136.0</td>\n",
       "      <td>4051.0</td>\n",
       "      <td>...</td>\n",
       "      <td>0.0</td>\n",
       "      <td>0.0</td>\n",
       "      <td>0.0</td>\n",
       "      <td>0.0</td>\n",
       "      <td>0.0</td>\n",
       "      <td>0.0</td>\n",
       "      <td>0.0</td>\n",
       "      <td>0.0</td>\n",
       "      <td>0.0</td>\n",
       "      <td>2</td>\n",
       "    </tr>\n",
       "    <tr>\n",
       "      <th>12</th>\n",
       "      <td>2742.0</td>\n",
       "      <td>134.0</td>\n",
       "      <td>22.0</td>\n",
       "      <td>150.0</td>\n",
       "      <td>69.0</td>\n",
       "      <td>3215.0</td>\n",
       "      <td>248.0</td>\n",
       "      <td>224.0</td>\n",
       "      <td>92.0</td>\n",
       "      <td>6091.0</td>\n",
       "      <td>...</td>\n",
       "      <td>0.0</td>\n",
       "      <td>0.0</td>\n",
       "      <td>0.0</td>\n",
       "      <td>0.0</td>\n",
       "      <td>0.0</td>\n",
       "      <td>0.0</td>\n",
       "      <td>0.0</td>\n",
       "      <td>0.0</td>\n",
       "      <td>0.0</td>\n",
       "      <td>2</td>\n",
       "    </tr>\n",
       "    <tr>\n",
       "      <th>13</th>\n",
       "      <td>2609.0</td>\n",
       "      <td>214.0</td>\n",
       "      <td>7.0</td>\n",
       "      <td>150.0</td>\n",
       "      <td>46.0</td>\n",
       "      <td>771.0</td>\n",
       "      <td>213.0</td>\n",
       "      <td>247.0</td>\n",
       "      <td>170.0</td>\n",
       "      <td>6211.0</td>\n",
       "      <td>...</td>\n",
       "      <td>0.0</td>\n",
       "      <td>0.0</td>\n",
       "      <td>0.0</td>\n",
       "      <td>0.0</td>\n",
       "      <td>0.0</td>\n",
       "      <td>0.0</td>\n",
       "      <td>0.0</td>\n",
       "      <td>0.0</td>\n",
       "      <td>0.0</td>\n",
       "      <td>5</td>\n",
       "    </tr>\n",
       "    <tr>\n",
       "      <th>14</th>\n",
       "      <td>2503.0</td>\n",
       "      <td>157.0</td>\n",
       "      <td>4.0</td>\n",
       "      <td>67.0</td>\n",
       "      <td>4.0</td>\n",
       "      <td>674.0</td>\n",
       "      <td>224.0</td>\n",
       "      <td>240.0</td>\n",
       "      <td>151.0</td>\n",
       "      <td>5600.0</td>\n",
       "      <td>...</td>\n",
       "      <td>0.0</td>\n",
       "      <td>0.0</td>\n",
       "      <td>0.0</td>\n",
       "      <td>0.0</td>\n",
       "      <td>0.0</td>\n",
       "      <td>0.0</td>\n",
       "      <td>0.0</td>\n",
       "      <td>0.0</td>\n",
       "      <td>0.0</td>\n",
       "      <td>5</td>\n",
       "    </tr>\n",
       "  </tbody>\n",
       "</table>\n",
       "<p>15 rows × 55 columns</p>\n",
       "</div>\n",
       "      <button class=\"colab-df-convert\" onclick=\"convertToInteractive('df-a643bf5e-71c8-45ca-a1e2-53151639ac8e')\"\n",
       "              title=\"Convert this dataframe to an interactive table.\"\n",
       "              style=\"display:none;\">\n",
       "        \n",
       "  <svg xmlns=\"http://www.w3.org/2000/svg\" height=\"24px\"viewBox=\"0 0 24 24\"\n",
       "       width=\"24px\">\n",
       "    <path d=\"M0 0h24v24H0V0z\" fill=\"none\"/>\n",
       "    <path d=\"M18.56 5.44l.94 2.06.94-2.06 2.06-.94-2.06-.94-.94-2.06-.94 2.06-2.06.94zm-11 1L8.5 8.5l.94-2.06 2.06-.94-2.06-.94L8.5 2.5l-.94 2.06-2.06.94zm10 10l.94 2.06.94-2.06 2.06-.94-2.06-.94-.94-2.06-.94 2.06-2.06.94z\"/><path d=\"M17.41 7.96l-1.37-1.37c-.4-.4-.92-.59-1.43-.59-.52 0-1.04.2-1.43.59L10.3 9.45l-7.72 7.72c-.78.78-.78 2.05 0 2.83L4 21.41c.39.39.9.59 1.41.59.51 0 1.02-.2 1.41-.59l7.78-7.78 2.81-2.81c.8-.78.8-2.07 0-2.86zM5.41 20L4 18.59l7.72-7.72 1.47 1.35L5.41 20z\"/>\n",
       "  </svg>\n",
       "      </button>\n",
       "      \n",
       "  <style>\n",
       "    .colab-df-container {\n",
       "      display:flex;\n",
       "      flex-wrap:wrap;\n",
       "      gap: 12px;\n",
       "    }\n",
       "\n",
       "    .colab-df-convert {\n",
       "      background-color: #E8F0FE;\n",
       "      border: none;\n",
       "      border-radius: 50%;\n",
       "      cursor: pointer;\n",
       "      display: none;\n",
       "      fill: #1967D2;\n",
       "      height: 32px;\n",
       "      padding: 0 0 0 0;\n",
       "      width: 32px;\n",
       "    }\n",
       "\n",
       "    .colab-df-convert:hover {\n",
       "      background-color: #E2EBFA;\n",
       "      box-shadow: 0px 1px 2px rgba(60, 64, 67, 0.3), 0px 1px 3px 1px rgba(60, 64, 67, 0.15);\n",
       "      fill: #174EA6;\n",
       "    }\n",
       "\n",
       "    [theme=dark] .colab-df-convert {\n",
       "      background-color: #3B4455;\n",
       "      fill: #D2E3FC;\n",
       "    }\n",
       "\n",
       "    [theme=dark] .colab-df-convert:hover {\n",
       "      background-color: #434B5C;\n",
       "      box-shadow: 0px 1px 3px 1px rgba(0, 0, 0, 0.15);\n",
       "      filter: drop-shadow(0px 1px 2px rgba(0, 0, 0, 0.3));\n",
       "      fill: #FFFFFF;\n",
       "    }\n",
       "  </style>\n",
       "\n",
       "      <script>\n",
       "        const buttonEl =\n",
       "          document.querySelector('#df-a643bf5e-71c8-45ca-a1e2-53151639ac8e button.colab-df-convert');\n",
       "        buttonEl.style.display =\n",
       "          google.colab.kernel.accessAllowed ? 'block' : 'none';\n",
       "\n",
       "        async function convertToInteractive(key) {\n",
       "          const element = document.querySelector('#df-a643bf5e-71c8-45ca-a1e2-53151639ac8e');\n",
       "          const dataTable =\n",
       "            await google.colab.kernel.invokeFunction('convertToInteractive',\n",
       "                                                     [key], {});\n",
       "          if (!dataTable) return;\n",
       "\n",
       "          const docLinkHtml = 'Like what you see? Visit the ' +\n",
       "            '<a target=\"_blank\" href=https://colab.research.google.com/notebooks/data_table.ipynb>data table notebook</a>'\n",
       "            + ' to learn more about interactive tables.';\n",
       "          element.innerHTML = '';\n",
       "          dataTable['output_type'] = 'display_data';\n",
       "          await google.colab.output.renderOutput(dataTable, element);\n",
       "          const docLink = document.createElement('div');\n",
       "          docLink.innerHTML = docLinkHtml;\n",
       "          element.appendChild(docLink);\n",
       "        }\n",
       "      </script>\n",
       "    </div>\n",
       "  </div>\n",
       "  "
      ],
      "text/plain": [
       "    Elevation  Aspect  Slope  Horizontal_Distance_To_Hydrology  \\\n",
       "0      2596.0    51.0    3.0                             258.0   \n",
       "1      2590.0    56.0    2.0                             212.0   \n",
       "2      2804.0   139.0    9.0                             268.0   \n",
       "3      2785.0   155.0   18.0                             242.0   \n",
       "4      2595.0    45.0    2.0                             153.0   \n",
       "5      2579.0   132.0    6.0                             300.0   \n",
       "6      2606.0    45.0    7.0                             270.0   \n",
       "7      2605.0    49.0    4.0                             234.0   \n",
       "8      2617.0    45.0    9.0                             240.0   \n",
       "9      2612.0    59.0   10.0                             247.0   \n",
       "10     2612.0   201.0    4.0                             180.0   \n",
       "11     2886.0   151.0   11.0                             371.0   \n",
       "12     2742.0   134.0   22.0                             150.0   \n",
       "13     2609.0   214.0    7.0                             150.0   \n",
       "14     2503.0   157.0    4.0                              67.0   \n",
       "\n",
       "    Vertical_Distance_To_Hydrology  Horizontal_Distance_To_Roadways  \\\n",
       "0                              0.0                            510.0   \n",
       "1                             -6.0                            390.0   \n",
       "2                             65.0                           3180.0   \n",
       "3                            118.0                           3090.0   \n",
       "4                             -1.0                            391.0   \n",
       "5                            -15.0                             67.0   \n",
       "6                              5.0                            633.0   \n",
       "7                              7.0                            573.0   \n",
       "8                             56.0                            666.0   \n",
       "9                             11.0                            636.0   \n",
       "10                            51.0                            735.0   \n",
       "11                            26.0                           5253.0   \n",
       "12                            69.0                           3215.0   \n",
       "13                            46.0                            771.0   \n",
       "14                             4.0                            674.0   \n",
       "\n",
       "    Hillshade_9am  Hillshade_Noon  Hillshade_3pm  \\\n",
       "0           221.0           232.0          148.0   \n",
       "1           220.0           235.0          151.0   \n",
       "2           234.0           238.0          135.0   \n",
       "3           238.0           238.0          122.0   \n",
       "4           220.0           234.0          150.0   \n",
       "5           230.0           237.0          140.0   \n",
       "6           222.0           225.0          138.0   \n",
       "7           222.0           230.0          144.0   \n",
       "8           223.0           221.0          133.0   \n",
       "9           228.0           219.0          124.0   \n",
       "10          218.0           243.0          161.0   \n",
       "11          234.0           240.0          136.0   \n",
       "12          248.0           224.0           92.0   \n",
       "13          213.0           247.0          170.0   \n",
       "14          224.0           240.0          151.0   \n",
       "\n",
       "    Horizontal_Distance_To_Fire_Points  ...  Soil_Type_31  Soil_Type_32  \\\n",
       "0                               6279.0  ...           0.0           0.0   \n",
       "1                               6225.0  ...           0.0           0.0   \n",
       "2                               6121.0  ...           0.0           0.0   \n",
       "3                               6211.0  ...           0.0           0.0   \n",
       "4                               6172.0  ...           0.0           0.0   \n",
       "5                               6031.0  ...           0.0           0.0   \n",
       "6                               6256.0  ...           0.0           0.0   \n",
       "7                               6228.0  ...           0.0           0.0   \n",
       "8                               6244.0  ...           0.0           0.0   \n",
       "9                               6230.0  ...           0.0           0.0   \n",
       "10                              6222.0  ...           0.0           0.0   \n",
       "11                              4051.0  ...           0.0           0.0   \n",
       "12                              6091.0  ...           0.0           0.0   \n",
       "13                              6211.0  ...           0.0           0.0   \n",
       "14                              5600.0  ...           0.0           0.0   \n",
       "\n",
       "    Soil_Type_33  Soil_Type_34  Soil_Type_35  Soil_Type_36  Soil_Type_37  \\\n",
       "0            0.0           0.0           0.0           0.0           0.0   \n",
       "1            0.0           0.0           0.0           0.0           0.0   \n",
       "2            0.0           0.0           0.0           0.0           0.0   \n",
       "3            0.0           0.0           0.0           0.0           0.0   \n",
       "4            0.0           0.0           0.0           0.0           0.0   \n",
       "5            0.0           0.0           0.0           0.0           0.0   \n",
       "6            0.0           0.0           0.0           0.0           0.0   \n",
       "7            0.0           0.0           0.0           0.0           0.0   \n",
       "8            0.0           0.0           0.0           0.0           0.0   \n",
       "9            0.0           0.0           0.0           0.0           0.0   \n",
       "10           0.0           0.0           0.0           0.0           0.0   \n",
       "11           0.0           0.0           0.0           0.0           0.0   \n",
       "12           0.0           0.0           0.0           0.0           0.0   \n",
       "13           0.0           0.0           0.0           0.0           0.0   \n",
       "14           0.0           0.0           0.0           0.0           0.0   \n",
       "\n",
       "    Soil_Type_38  Soil_Type_39  target  \n",
       "0            0.0           0.0       5  \n",
       "1            0.0           0.0       5  \n",
       "2            0.0           0.0       2  \n",
       "3            0.0           0.0       2  \n",
       "4            0.0           0.0       5  \n",
       "5            0.0           0.0       2  \n",
       "6            0.0           0.0       5  \n",
       "7            0.0           0.0       5  \n",
       "8            0.0           0.0       5  \n",
       "9            0.0           0.0       5  \n",
       "10           0.0           0.0       5  \n",
       "11           0.0           0.0       2  \n",
       "12           0.0           0.0       2  \n",
       "13           0.0           0.0       5  \n",
       "14           0.0           0.0       5  \n",
       "\n",
       "[15 rows x 55 columns]"
      ]
     },
     "execution_count": 3,
     "metadata": {},
     "output_type": "execute_result"
    }
   ],
   "source": [
    "covtype = sklearn.datasets.fetch_covtype()\n",
    "\n",
    "df = pd.DataFrame( data = np.c_[covtype['data'], covtype['target']],\n",
    "                      columns = covtype['feature_names'] + ['target'] )\n",
    "\n",
    "df.target = df.target.astype( int )\n",
    "\n",
    "df.head(15)"
   ]
  },
  {
   "cell_type": "markdown",
   "metadata": {
    "id": "w_thaoqhaUfd"
   },
   "source": [
    "1.1. С помощью sklearn.preprocessing.StandardScaler нормализовать значения признаков и построить для нормализованного датасета KNeighborsClassifier (без использования конвееров)"
   ]
  },
  {
   "cell_type": "code",
   "execution_count": null,
   "metadata": {
    "id": "8IucHZUMaZ-V"
   },
   "outputs": [],
   "source": [
    "df_X = df.drop(columns=['target'])\n",
    "df_y = df['target']\n",
    "\n",
    "scaled_X = StandardScaler().fit_transform(df_X)\n",
    "\n",
    "X_train, X_test, y_train, y_test = train_test_split(scaled_X, df_y, test_size=0.25, random_state=42)\n",
    "\n",
    "clf = KNeighborsClassifier()\n",
    "# clf.fit(X_train, y_train)"
   ]
  },
  {
   "cell_type": "markdown",
   "metadata": {
    "id": "s_lHf_IEbrF2"
   },
   "source": [
    "1.2. То же самое и использованием sklearn.pipeline.Pipeline"
   ]
  },
  {
   "cell_type": "code",
   "execution_count": null,
   "metadata": {
    "id": "L0Yd9bHwbkAm"
   },
   "outputs": [],
   "source": [
    "pipe = Pipeline([('scaler', StandardScaler()), ('KNeighborsClassifier', KNeighborsClassifier())])\n",
    "# pipe.fit(X_train, y_train)\n",
    "# pipe.score(X_test, y_test)"
   ]
  },
  {
   "cell_type": "markdown",
   "metadata": {
    "id": "JCVttFljb6Yl"
   },
   "source": [
    "1.3. С помощью GridSearchCV произвести подбор гиперпараметра KNeighborsClassifier (n_neighbors) и выведите значение гиперпараметра и метрику для наилучшей модели"
   ]
  },
  {
   "cell_type": "code",
   "execution_count": 4,
   "metadata": {
    "colab": {
     "base_uri": "https://localhost:8080/"
    },
    "executionInfo": {
     "elapsed": 6325806,
     "status": "ok",
     "timestamp": 1661688276765,
     "user": {
      "displayName": "Юлия Агафонова",
      "userId": "09643918871768043663"
     },
     "user_tz": -240
    },
    "id": "iz22uErMb_tf",
    "outputId": "ac2620cd-3dcd-4f8d-bc87-7c7cdbef2e47"
   },
   "outputs": [
    {
     "data": {
      "text/plain": [
       "GridSearchCV(cv=3, estimator=KNeighborsClassifier(),\n",
       "             param_grid=[{'n_neighbors': [2, 3, 5]}], refit=False)"
      ]
     },
     "execution_count": 4,
     "metadata": {},
     "output_type": "execute_result"
    }
   ],
   "source": [
    "df_X = df.drop(columns=['target'])\n",
    "df_y = df['target']\n",
    "\n",
    "X_train, X_test, y_train, y_test = train_test_split(df_X, df_y, test_size=0.25, random_state=42)\n",
    "\n",
    "KNeighbors = KNeighborsClassifier()\n",
    "list_n_estimators = [2, 3, 5]\n",
    "\n",
    "tuned_parameters = [{\"n_neighbors\": list_n_estimators}]\n",
    "n_folds = 3\n",
    "\n",
    "clf = GridSearchCV(KNeighbors, tuned_parameters, cv=n_folds, refit=False)\n",
    "clf.fit(X_train, y_train)\n",
    "\n",
    "# data_y_pred = clf.predict(X_test)\n",
    "# print(accuracy_score(y_test, data_y_pred))"
   ]
  },
  {
   "cell_type": "code",
   "execution_count": 5,
   "metadata": {
    "colab": {
     "base_uri": "https://localhost:8080/"
    },
    "executionInfo": {
     "elapsed": 134,
     "status": "ok",
     "timestamp": 1661688276771,
     "user": {
      "displayName": "Юлия Агафонова",
      "userId": "09643918871768043663"
     },
     "user_tz": -240
    },
    "id": "Zi3flb5r_SVm",
    "outputId": "b711df23-f3b5-4015-d3c9-59c35434c840"
   },
   "outputs": [
    {
     "data": {
      "text/plain": [
       "{'n_neighbors': 3}"
      ]
     },
     "execution_count": 5,
     "metadata": {},
     "output_type": "execute_result"
    }
   ],
   "source": [
    "clf.best_params_"
   ]
  },
  {
   "cell_type": "code",
   "execution_count": 6,
   "metadata": {
    "colab": {
     "base_uri": "https://localhost:8080/"
    },
    "executionInfo": {
     "elapsed": 1015119,
     "status": "ok",
     "timestamp": 1661690238952,
     "user": {
      "displayName": "Юлия Агафонова",
      "userId": "09643918871768043663"
     },
     "user_tz": -240
    },
    "id": "lAZ87lFKZH7H",
    "outputId": "7e10b384-3c50-4b66-f8aa-c90c5fbebb5e"
   },
   "outputs": [
    {
     "name": "stdout",
     "output_type": "stream",
     "text": [
      "0.967511858619099\n"
     ]
    }
   ],
   "source": [
    "df_X = df.drop(columns=['target'])\n",
    "df_y = df['target']\n",
    "\n",
    "X_train, X_test, y_train, y_test = train_test_split(df_X, df_y, test_size=0.25, random_state=42)\n",
    "\n",
    "clf = KNeighborsClassifier(n_neighbors=3)\n",
    "clf.fit(X_train, y_train)\n",
    "\n",
    "data_y_pred = clf.predict(X_test)\n",
    "\n",
    "print(accuracy_score(y_test, data_y_pred))"
   ]
  },
  {
   "cell_type": "markdown",
   "metadata": {
    "id": "cyysC7OycCmE"
   },
   "source": [
    "2.1. Продемонстрировать работу DecisionTreeClassifier, посчитать метрики качества на отложенной выборке"
   ]
  },
  {
   "cell_type": "code",
   "execution_count": null,
   "metadata": {
    "colab": {
     "base_uri": "https://localhost:8080/"
    },
    "executionInfo": {
     "elapsed": 10917,
     "status": "ok",
     "timestamp": 1661549861583,
     "user": {
      "displayName": "Юлия Агафонова",
      "userId": "09643918871768043663"
     },
     "user_tz": -240
    },
    "id": "NRzDrkdkcD7l",
    "outputId": "f967e9be-8468-4c3c-c5b4-d6237474ea51"
   },
   "outputs": [
    {
     "name": "stdout",
     "output_type": "stream",
     "text": [
      "0.9366278149160431\n"
     ]
    }
   ],
   "source": [
    "df_X = df.drop(columns=['target'])\n",
    "df_y = df['target']\n",
    "\n",
    "X_train, X_test, y_train, y_test = train_test_split(df_X, df_y, test_size=0.25, random_state=42)\n",
    "\n",
    "clf = DecisionTreeClassifier()\n",
    "clf.fit(X_train, y_train)\n",
    "\n",
    "data_y_pred = clf.predict(X_test)\n",
    "\n",
    "print(accuracy_score(y_test, data_y_pred))"
   ]
  },
  {
   "cell_type": "markdown",
   "metadata": {
    "id": "LHRl_6Htck07"
   },
   "source": [
    "2.2. С помощью GridSearchCV произвести подбор гиперпараметров для поиска наилучшего дерева (перебрать max_depth, max_features и может быть что-то ещё)"
   ]
  },
  {
   "cell_type": "code",
   "execution_count": 7,
   "metadata": {
    "colab": {
     "base_uri": "https://localhost:8080/"
    },
    "executionInfo": {
     "elapsed": 15787,
     "status": "ok",
     "timestamp": 1661642226534,
     "user": {
      "displayName": "Юлия Агафонова",
      "userId": "09643918871768043663"
     },
     "user_tz": -240
    },
    "id": "KjhA2S6IclM4",
    "outputId": "221fddfa-fb50-440a-cd5b-829733945b68"
   },
   "outputs": [
    {
     "data": {
      "text/plain": [
       "GridSearchCV(cv=5, estimator=DecisionTreeClassifier(),\n",
       "             param_grid=[{'max_depth': [2, 3, 5],\n",
       "                          'max_features': ['auto', 'sqrt', 'log2']}],\n",
       "             refit=False)"
      ]
     },
     "execution_count": 7,
     "metadata": {},
     "output_type": "execute_result"
    }
   ],
   "source": [
    "DecisionTree = DecisionTreeClassifier()\n",
    "list_max_depth = [2, 3, 5]\n",
    "list_max_features = ['auto', 'sqrt', 'log2']\n",
    "\n",
    "tuned_parameters = [{\"max_depth\": list_max_depth, 'max_features': list_max_features}]\n",
    "n_folds = 5\n",
    "\n",
    "clf = GridSearchCV(DecisionTree, tuned_parameters, cv=n_folds, refit=False)\n",
    "clf.fit(X_train, y_train)"
   ]
  },
  {
   "cell_type": "code",
   "execution_count": 8,
   "metadata": {
    "colab": {
     "base_uri": "https://localhost:8080/"
    },
    "executionInfo": {
     "elapsed": 5,
     "status": "ok",
     "timestamp": 1661642226535,
     "user": {
      "displayName": "Юлия Агафонова",
      "userId": "09643918871768043663"
     },
     "user_tz": -240
    },
    "id": "cJVqtZIOlEXx",
    "outputId": "966e7b7b-8643-40a2-84af-11d09c80b092"
   },
   "outputs": [
    {
     "data": {
      "text/plain": [
       "{'max_depth': 5, 'max_features': 'sqrt'}"
      ]
     },
     "execution_count": 8,
     "metadata": {},
     "output_type": "execute_result"
    }
   ],
   "source": [
    "clf.best_params_"
   ]
  },
  {
   "cell_type": "markdown",
   "metadata": {
    "id": "zMwhBJpGclh9"
   },
   "source": [
    "2.3. Для полученного наилучшего дерева построить график feature_importances и дополнительно напечатать 3 наиболее важных признака, отсортировав их по убыванию важности"
   ]
  },
  {
   "cell_type": "code",
   "execution_count": 43,
   "metadata": {
    "colab": {
     "base_uri": "https://localhost:8080/"
    },
    "executionInfo": {
     "elapsed": 1220,
     "status": "ok",
     "timestamp": 1661643277225,
     "user": {
      "displayName": "Юлия Агафонова",
      "userId": "09643918871768043663"
     },
     "user_tz": -240
    },
    "id": "s-UvgEGAcoIt",
    "outputId": "ff6365bf-6215-4621-89a3-923d0ed03251"
   },
   "outputs": [
    {
     "name": "stdout",
     "output_type": "stream",
     "text": [
      "0.5445808348192465\n"
     ]
    }
   ],
   "source": [
    "df_X = df.drop(columns=['target'])\n",
    "df_y = df['target']\n",
    "\n",
    "X_train, X_test, y_train, y_test = train_test_split(df_X, df_y, test_size=0.25, random_state=42)\n",
    "\n",
    "clf = DecisionTreeClassifier(max_depth=5, max_features='sqrt')\n",
    "clf.fit(X_train, y_train)\n",
    "\n",
    "data_y_pred = clf.predict(X_test)\n",
    "print(accuracy_score(y_test, data_y_pred))"
   ]
  },
  {
   "cell_type": "code",
   "execution_count": 14,
   "metadata": {
    "colab": {
     "base_uri": "https://localhost:8080/",
     "height": 313
    },
    "executionInfo": {
     "elapsed": 1318,
     "status": "ok",
     "timestamp": 1661642762184,
     "user": {
      "displayName": "Юлия Агафонова",
      "userId": "09643918871768043663"
     },
     "user_tz": -240
    },
    "id": "pwonTGPnmkWJ",
    "outputId": "ebf361cc-8c93-4acc-b806-d1f34c9fbfd9"
   },
   "outputs": [
    {
     "data": {
      "image/png": "[encoded data removed]",
      "text/plain": [
       "<Figure size 432x288 with 1 Axes>"
      ]
     },
     "metadata": {
      "needs_background": "light"
     },
     "output_type": "display_data"
    }
   ],
   "source": [
    "importances = clf.feature_importances_\n",
    "# std = np.std([tree.feature_importances_ for tree in clf.classes_], axis=0)\n",
    "\n",
    "forest_importances = pd.Series(importances, index=df_X.columns)\n",
    "\n",
    "fig, ax = plt.subplots()\n",
    "forest_importances.plot.bar( ax=ax)\n",
    "ax.set_title(\"Feature importances using MDI\")\n",
    "ax.set_ylabel(\"Mean decrease in impurity\")\n",
    "fig.tight_layout()"
   ]
  },
  {
   "cell_type": "code",
   "execution_count": 41,
   "metadata": {
    "colab": {
     "base_uri": "https://localhost:8080/"
    },
    "executionInfo": {
     "elapsed": 375,
     "status": "ok",
     "timestamp": 1661643203220,
     "user": {
      "displayName": "Юлия Агафонова",
      "userId": "09643918871768043663"
     },
     "user_tz": -240
    },
    "id": "64H0ux-moNJ7",
    "outputId": "d6253b23-92ad-4dc0-d724-e0a6ccfe2e63"
   },
   "outputs": [
    {
     "data": {
      "text/plain": [
       "[0.6019790080677339, 0.2233965926251227, 0.04783116995114906]"
      ]
     },
     "execution_count": 41,
     "metadata": {},
     "output_type": "execute_result"
    }
   ],
   "source": [
    "sorted(forest_importances, reverse=True)[:3]"
   ]
  },
  {
   "cell_type": "code",
   "execution_count": 32,
   "metadata": {
    "colab": {
     "base_uri": "https://localhost:8080/"
    },
    "executionInfo": {
     "elapsed": 2,
     "status": "ok",
     "timestamp": 1661643012294,
     "user": {
      "displayName": "Юлия Агафонова",
      "userId": "09643918871768043663"
     },
     "user_tz": -240
    },
    "id": "CNNHwZwtow2B",
    "outputId": "f8d8719d-7672-473c-8fb1-e286c6348be6"
   },
   "outputs": [
    {
     "data": {
      "text/plain": [
       "Elevation                             0.601979\n",
       "Aspect                                0.012750\n",
       "Slope                                 0.003980\n",
       "Horizontal_Distance_To_Hydrology      0.004809\n",
       "Vertical_Distance_To_Hydrology        0.016589\n",
       "Horizontal_Distance_To_Roadways       0.003510\n",
       "Hillshade_9am                         0.000945\n",
       "Hillshade_Noon                        0.018733\n",
       "Hillshade_3pm                         0.002012\n",
       "Horizontal_Distance_To_Fire_Points    0.009033\n",
       "Wilderness_Area_0                     0.000000\n",
       "Wilderness_Area_1                     0.000000\n",
       "Wilderness_Area_2                     0.000000\n",
       "Wilderness_Area_3                     0.223397\n",
       "Soil_Type_0                           0.000000\n",
       "Soil_Type_1                           0.047831\n",
       "Soil_Type_2                           0.000000\n",
       "Soil_Type_3                           0.000000\n",
       "Soil_Type_4                           0.000000\n",
       "Soil_Type_5                           0.000000\n",
       "Soil_Type_6                           0.000000\n",
       "Soil_Type_7                           0.000000\n",
       "Soil_Type_8                           0.000000\n",
       "Soil_Type_9                           0.020434\n",
       "Soil_Type_10                          0.000000\n",
       "Soil_Type_11                          0.000000\n",
       "Soil_Type_12                          0.000000\n",
       "Soil_Type_13                          0.000000\n",
       "Soil_Type_14                          0.000000\n",
       "Soil_Type_15                          0.000000\n",
       "Soil_Type_16                          0.000000\n",
       "Soil_Type_17                          0.000000\n",
       "Soil_Type_18                          0.000000\n",
       "Soil_Type_19                          0.000000\n",
       "Soil_Type_20                          0.000000\n",
       "Soil_Type_21                          0.011781\n",
       "Soil_Type_22                          0.000000\n",
       "Soil_Type_23                          0.001753\n",
       "Soil_Type_24                          0.000000\n",
       "Soil_Type_25                          0.000000\n",
       "Soil_Type_26                          0.000000\n",
       "Soil_Type_27                          0.000000\n",
       "Soil_Type_28                          0.011358\n",
       "Soil_Type_29                          0.000000\n",
       "Soil_Type_30                          0.000000\n",
       "Soil_Type_31                          0.009106\n",
       "Soil_Type_32                          0.000000\n",
       "Soil_Type_33                          0.000000\n",
       "Soil_Type_34                          0.000000\n",
       "Soil_Type_35                          0.000000\n",
       "Soil_Type_36                          0.000000\n",
       "Soil_Type_37                          0.000000\n",
       "Soil_Type_38                          0.000000\n",
       "Soil_Type_39                          0.000000\n",
       "dtype: float64"
      ]
     },
     "execution_count": 32,
     "metadata": {},
     "output_type": "execute_result"
    }
   ],
   "source": [
    "forest_importances\n"
   ]
  },
  {
   "cell_type": "markdown",
   "metadata": {
    "id": "070IeCjOcqqo"
   },
   "source": [
    "3.1. Продемонстрировать работу случайного леса RandomForestClassifier"
   ]
  },
  {
   "cell_type": "code",
   "execution_count": null,
   "metadata": {
    "colab": {
     "base_uri": "https://localhost:8080/"
    },
    "executionInfo": {
     "elapsed": 140995,
     "status": "ok",
     "timestamp": 1661551469875,
     "user": {
      "displayName": "Юлия Агафонова",
      "userId": "09643918871768043663"
     },
     "user_tz": -240
    },
    "id": "D05HaJIvcrEr",
    "outputId": "a4486372-8c6c-4a56-9b20-5f34811bbb99"
   },
   "outputs": [
    {
     "name": "stdout",
     "output_type": "stream",
     "text": [
      "0.952964826888257\n"
     ]
    }
   ],
   "source": [
    "df_X = df.drop(columns=['target'])\n",
    "df_y = df['target']\n",
    "\n",
    "X_train, X_test, y_train, y_test = train_test_split(df_X, df_y, test_size=0.25, random_state=42)\n",
    "\n",
    "clf = RandomForestClassifier()\n",
    "clf.fit(X_train, y_train)\n",
    "\n",
    "data_y_pred = clf.predict(X_test)\n",
    "\n",
    "print(accuracy_score(y_test, data_y_pred))"
   ]
  },
  {
   "cell_type": "markdown",
   "metadata": {
    "id": "Btk9mqdWcuas"
   },
   "source": [
    "3.2. С помощью GridSearchCV произвести подбор гиперпараметров для поиск наилучшего леса, посмотреть насколько улучшились метрики\n"
   ]
  },
  {
   "cell_type": "code",
   "execution_count": null,
   "metadata": {
    "colab": {
     "background_save": true
    },
    "id": "gSvoYKXAdPfX",
    "outputId": "200b99e8-6975-4d40-d9a6-958f7c29f93e"
   },
   "outputs": [
    {
     "data": {
      "text/plain": [
       "GridSearchCV(cv=5, estimator=RandomForestClassifier(),\n",
       "             param_grid=[{'n_estimators': [100, 150, 200, 250]}], refit=False)"
      ]
     },
     "execution_count": 4,
     "metadata": {},
     "output_type": "execute_result"
    }
   ],
   "source": [
    "RandomForest = RandomForestClassifier()\n",
    "list_n_estimators = [100, 150, 200, 250]\n",
    "\n",
    "tuned_parameters = [{\"n_estimators\": list_n_estimators}]\n",
    "n_folds = 5\n",
    "\n",
    "clf = GridSearchCV(RandomForest, tuned_parameters, cv=n_folds, refit=False)\n",
    "clf.fit(X_train, y_train)"
   ]
  },
  {
   "cell_type": "code",
   "execution_count": null,
   "metadata": {
    "colab": {
     "background_save": true
    },
    "id": "684upNk_F1mi",
    "outputId": "5da373da-84f8-4b0a-a51a-e72e28b6dcfc"
   },
   "outputs": [
    {
     "data": {
      "text/plain": [
       "{'n_estimators': 250}"
      ]
     },
     "execution_count": 5,
     "metadata": {},
     "output_type": "execute_result"
    }
   ],
   "source": [
    "clf.best_params_"
   ]
  },
  {
   "cell_type": "code",
   "execution_count": 5,
   "metadata": {
    "colab": {
     "base_uri": "https://localhost:8080/"
    },
    "executionInfo": {
     "elapsed": 329761,
     "status": "ok",
     "timestamp": 1661642144255,
     "user": {
      "displayName": "Юлия Агафонова",
      "userId": "09643918871768043663"
     },
     "user_tz": -240
    },
    "id": "L3X7ucjOjYcp",
    "outputId": "e03c819a-132e-440f-c0ba-7db15bb46fcc"
   },
   "outputs": [
    {
     "name": "stdout",
     "output_type": "stream",
     "text": [
      "0.954562040026712\n"
     ]
    }
   ],
   "source": [
    "df_X = df.drop(columns=['target'])\n",
    "df_y = df['target']\n",
    "\n",
    "X_train, X_test, y_train, y_test = train_test_split(df_X, df_y, test_size=0.25, random_state=42)\n",
    "\n",
    "clf = RandomForestClassifier(n_estimators=250)\n",
    "clf.fit(X_train, y_train)\n",
    "\n",
    "data_y_pred = clf.predict(X_test)\n",
    "\n",
    "print(accuracy_score(y_test, data_y_pred))"
   ]
  },
  {
   "cell_type": "markdown",
   "metadata": {
    "id": "aKlEN2MrAQ__"
   },
   "source": [
    "Сделать выводы. Какой классификатор и с камими гиперпараметрами дал в итоге наилучший результат для выбранного датасета на отложенной выборке."
   ]
  },
  {
   "cell_type": "code",
   "execution_count": null,
   "metadata": {
    "id": "dkpYhy65ASKO"
   },
   "outputs": [],
   "source": [
    "#RandomForestClassifier с подобранными параметрами n_estimators = 250"
   ]
  }
 ],
 "metadata": {
  "colab": {
   "authorship_tag": "ABX9TyMf+7nG+Tz49Qo7o6J5peSS",
   "collapsed_sections": [],
   "name": "4_lab_ersh.ipynb",
   "provenance": []
  },
  "kernelspec": {
   "display_name": "Python 3 (ipykernel)",
   "language": "python",
   "name": "python3"
  },
  "language_info": {
   "codemirror_mode": {
    "name": "ipython",
    "version": 3
   },
   "file_extension": ".py",
   "mimetype": "text/x-python",
   "name": "python",
   "nbconvert_exporter": "python",
   "pygments_lexer": "ipython3",
   "version": "3.9.7"
  }
 },
 "nbformat": 4,
 "nbformat_minor": 1
}
